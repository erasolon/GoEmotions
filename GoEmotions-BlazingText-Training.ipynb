{
 "cells": [
  {
   "cell_type": "code",
   "execution_count": 1,
   "id": "6ce9b39e",
   "metadata": {},
   "outputs": [
    {
     "name": "stdout",
     "output_type": "stream",
     "text": [
      "arn:aws:iam::861737859161:role/service-role/AmazonSageMaker-ExecutionRole-20210405T205521\n"
     ]
    }
   ],
   "source": [
    "import sagemaker\n",
    "from sagemaker import get_execution_role\n",
    "import json\n",
    "import boto3\n",
    "\n",
    "from sagemaker.tuner import (\n",
    "    IntegerParameter, CategoricalParameter, \n",
    "    ContinuousParameter, HyperparameterTuner)\n",
    "\n",
    "sess = sagemaker.Session()\n",
    "\n",
    "role = get_execution_role()\n",
    "print(\n",
    "    role\n",
    ")  # This is the role that SageMaker would use to leverage AWS resources (S3, CloudWatch) on your behalf\n",
    "\n",
    "bucket = \"erasolon-ml-output\" \n",
    "prefix_input = \"emr/goemotions\"  \n",
    "prefix_output = \"blazingtext/goemotions\"  "
   ]
  },
  {
   "cell_type": "code",
   "execution_count": 10,
   "id": "3367206b",
   "metadata": {},
   "outputs": [
    {
     "name": "stdout",
     "output_type": "stream",
     "text": [
      "CPU times: user 8 µs, sys: 2 µs, total: 10 µs\n",
      "Wall time: 13.4 µs\n"
     ]
    }
   ],
   "source": [
    "%%time\n",
    "\n",
    "train_channel = prefix_input + \"/train_output/part-00000-e9a1aa42-f613-4d21-9676-43cc59034fb4-c000.txt\"\n",
    "validation_channel = prefix_input + \"/validation_output/part-00000-25d0f1c2-f51a-40f2-9012-764ead050f7d-c000.txt\"\n",
    "test_channel = prefix_input + \"/test_output/part-00000-f9913b12-88b1-4946-8f89-a2ce470b212b-c000.txt\"\n",
    "\n",
    "\n",
    "s3_train_data = \"s3://{}/{}\".format(bucket, train_channel)\n",
    "s3_validation_data = \"s3://{}/{}\".format(bucket, validation_channel)\n",
    "s3_test_data = \"s3://{}/{}\".format(bucket, test_channel)\n",
    "\n",
    "s3_output_location = \"s3://{}/{}/output\".format(bucket, prefix_output)"
   ]
  },
  {
   "cell_type": "code",
   "execution_count": 11,
   "id": "1e3b1108",
   "metadata": {},
   "outputs": [
    {
     "name": "stderr",
     "output_type": "stream",
     "text": [
      "The method get_image_uri has been renamed in sagemaker>=2.\n",
      "See: https://sagemaker.readthedocs.io/en/stable/v2.html for details.\n",
      "Defaulting to the only supported framework/algorithm version: 1. Ignoring framework/algorithm version: latest.\n"
     ]
    },
    {
     "name": "stdout",
     "output_type": "stream",
     "text": [
      "Using SageMaker BlazingText container: 811284229777.dkr.ecr.us-east-1.amazonaws.com/blazingtext:1 (us-east-1)\n"
     ]
    }
   ],
   "source": [
    "region_name = boto3.Session().region_name\n",
    "container = sagemaker.amazon.amazon_estimator.get_image_uri(region_name, \"blazingtext\", \"latest\")\n",
    "print(\"Using SageMaker BlazingText container: {} ({})\".format(container, region_name))"
   ]
  },
  {
   "cell_type": "code",
   "execution_count": 12,
   "id": "1b617431",
   "metadata": {},
   "outputs": [],
   "source": [
    "bt_model = sagemaker.estimator.Estimator(\n",
    "    container,\n",
    "    role,\n",
    "    instance_count=1,\n",
    "    instance_type=\"ml.c4.4xlarge\",\n",
    "    volume_size=30,\n",
    "    max_run=360000,\n",
    "    input_mode=\"File\",\n",
    "    output_path=s3_output_location,base_job_name=\"GoEmotions-BlazingText\",\n",
    "    sagemaker_session=sess,\n",
    "    hyperparameters={\n",
    "        \"mode\": \"supervised\",\n",
    "        \"epochs\": 5,\n",
    "        \"min_count\": 3,\n",
    "        \"learning_rate\": 0.05,\n",
    "        \"vector_dim\": 10,\n",
    "        \"early_stopping\": False,\n",
    "        \"patience\": 4,\n",
    "        \"min_epochs\": 2,\n",
    "        \"word_ngrams\": 2,\n",
    "        \n",
    "    },\n",
    ")"
   ]
  },
  {
   "cell_type": "code",
   "execution_count": 13,
   "id": "83f87aa2",
   "metadata": {},
   "outputs": [],
   "source": [
    "train_data = sagemaker.inputs.TrainingInput(\n",
    "    s3_train_data,\n",
    "    distribution=\"FullyReplicated\",\n",
    "    s3_data_type=\"S3Prefix\",\n",
    "    input_mode='File',\n",
    "    content_type='text/plain',\n",
    "    compression='None',\n",
    ")\n",
    "validation_data = sagemaker.inputs.TrainingInput(\n",
    "    s3_validation_data,\n",
    "    distribution=\"FullyReplicated\",\n",
    "    s3_data_type=\"S3Prefix\",\n",
    "    input_mode='File',\n",
    "    content_type='text/plain',\n",
    "    compression='None',\n",
    ")\n",
    "test_data = sagemaker.inputs.TrainingInput(\n",
    "    s3_test_data,\n",
    "    distribution=\"FullyReplicated\",\n",
    "    s3_data_type=\"S3Prefix\",\n",
    "    input_mode='File',\n",
    "    content_type='text/plain',\n",
    "    compression='None',\n",
    ")\n",
    "data_channels = {\"train\": train_data, \"validation\": validation_data, \"test\": test_data}"
   ]
  },
  {
   "cell_type": "code",
   "execution_count": 14,
   "id": "5cbc6349",
   "metadata": {
    "scrolled": true
   },
   "outputs": [
    {
     "name": "stdout",
     "output_type": "stream",
     "text": [
      "2022-01-15 16:36:37 Starting - Starting the training job...\n",
      "2022-01-15 16:36:39 Starting - Launching requested ML instancesProfilerReport-1642264597: InProgress\n",
      "......\n",
      "2022-01-15 16:37:57 Starting - Preparing the instances for training.........\n",
      "2022-01-15 16:39:38 Downloading - Downloading input data\n",
      "2022-01-15 16:39:38 Training - Downloading the training image.\u001b[34mArguments: train\u001b[0m\n",
      "\u001b[34m[01/15/2022 16:39:36 WARNING 140392150271360] Loggers have already been setup.\u001b[0m\n",
      "\u001b[34m[01/15/2022 16:39:36 WARNING 140392150271360] Loggers have already been setup.\u001b[0m\n",
      "\u001b[34m[01/15/2022 16:39:36 INFO 140392150271360] nvidia-smi took: 0.025350570678710938 secs to identify 0 gpus\u001b[0m\n",
      "\u001b[34m[01/15/2022 16:39:36 INFO 140392150271360] Running single machine CPU BlazingText training using supervised mode.\u001b[0m\n",
      "\u001b[34mNumber of CPU sockets found in instance is  1\u001b[0m\n",
      "\u001b[34m[01/15/2022 16:39:36 INFO 140392150271360] Processing /opt/ml/input/data/train/part-00000-e9a1aa42-f613-4d21-9676-43cc59034fb4-c000.txt . File size: 2.665308952331543 MB\u001b[0m\n",
      "\u001b[34m[01/15/2022 16:39:36 INFO 140392150271360] Processing /opt/ml/input/data/validation/part-00000-25d0f1c2-f51a-40f2-9012-764ead050f7d-c000.txt . File size: 0.3329038619995117 MB\u001b[0m\n",
      "\u001b[34mRead 0M words\u001b[0m\n",
      "\u001b[34mNumber of words:  8880\u001b[0m\n",
      "\u001b[34m##### Alpha: -0.0000  Progress: 100.01%  Million Words/sec: 20.30 #####\u001b[0m\n",
      "\u001b[34m##### Alpha: 0.0000  Progress: 100.00%  Million Words/sec: 20.26 #####\u001b[0m\n",
      "\u001b[34mTraining finished.\u001b[0m\n",
      "\u001b[34mAverage throughput in Million words/sec: 20.26\u001b[0m\n",
      "\u001b[34mTotal training time in seconds: 0.10\u001b[0m\n",
      "\u001b[34m#train_accuracy: 0.7454\u001b[0m\n",
      "\u001b[34mNumber of train examples: 46835\u001b[0m\n",
      "\u001b[34m#validation_accuracy: 0.6123\u001b[0m\n",
      "\u001b[34mNumber of validation examples: 5850\u001b[0m\n",
      "\n",
      "2022-01-15 16:40:06 Uploading - Uploading generated training model\n",
      "2022-01-15 16:40:38 Completed - Training job completed\n",
      "Training seconds: 72\n",
      "Billable seconds: 72\n",
      "CPU times: user 500 ms, sys: 42 ms, total: 542 ms\n",
      "Wall time: 4min 14s\n"
     ]
    }
   ],
   "source": [
    "%%time\n",
    "\n",
    "bt_model.fit(inputs=data_channels, logs=True)"
   ]
  },
  {
   "cell_type": "code",
   "execution_count": 15,
   "id": "6a255ef4",
   "metadata": {},
   "outputs": [],
   "source": [
    "objective_metric_name = 'validation:accuracy'\n",
    "objective_type = 'Maximize'"
   ]
  },
  {
   "cell_type": "code",
   "execution_count": 16,
   "id": "4840fc9c",
   "metadata": {},
   "outputs": [
    {
     "name": "stdout",
     "output_type": "stream",
     "text": [
      ".........................................................!\n",
      "CPU times: user 289 ms, sys: 21.2 ms, total: 311 ms\n",
      "Wall time: 4min 48s\n"
     ]
    }
   ],
   "source": [
    "%%time\n",
    "\n",
    "hyperparameter_ranges = {\n",
    "    \"epochs\": IntegerParameter(5, 10, scaling_type=\"Linear\"),\n",
    "    \"learning_rate\": ContinuousParameter(0.01, 0.05, scaling_type=\"Auto\"),\n",
    "    \"min_count\": IntegerParameter(2, 5, scaling_type=\"Linear\"),\n",
    "    \"vector_dim\": IntegerParameter(32, 44, scaling_type=\"Linear\"),\n",
    "    \"word_ngrams\": IntegerParameter(1, 3, scaling_type=\"Linear\")\n",
    "}\n",
    "\n",
    "tuner = HyperparameterTuner(bt_model,\n",
    "                            objective_metric_name,\n",
    "                            hyperparameter_ranges,\n",
    "                            base_tuning_job_name =\"GoEmotions-BlazingText\",\n",
    "                            max_jobs=4,\n",
    "                            max_parallel_jobs=4,\n",
    "                            strategy=\"Random\",\n",
    "                            early_stopping_type='Auto',\n",
    "                            objective_type=objective_type)\n",
    "\n",
    "\n",
    "data_channels_tune = {\"train\": train_data, \"test\": test_data, \"validation\": validation_data}\n",
    "\n",
    "tuner.fit(inputs=data_channels_tune, logs=True)"
   ]
  },
  {
   "cell_type": "code",
   "execution_count": 17,
   "id": "2d0240e4",
   "metadata": {},
   "outputs": [
    {
     "data": {
      "text/plain": [
       "'Completed'"
      ]
     },
     "execution_count": 17,
     "metadata": {},
     "output_type": "execute_result"
    }
   ],
   "source": [
    "boto3.client(\"sagemaker\").describe_hyper_parameter_tuning_job(\n",
    "    HyperParameterTuningJobName=tuner.latest_tuning_job.job_name\n",
    ")[\"HyperParameterTuningJobStatus\"]"
   ]
  },
  {
   "cell_type": "code",
   "execution_count": 18,
   "id": "bf252697",
   "metadata": {},
   "outputs": [
    {
     "name": "stdout",
     "output_type": "stream",
     "text": [
      "4 training jobs have completed\n"
     ]
    }
   ],
   "source": [
    "# run this cell to check current status of hyperparameter tuning job\n",
    "tuning_job_result = boto3.client(\"sagemaker\").describe_hyper_parameter_tuning_job(\n",
    "    HyperParameterTuningJobName=tuner.latest_tuning_job.job_name\n",
    ")\n",
    "\n",
    "status = tuning_job_result[\"HyperParameterTuningJobStatus\"]\n",
    "if status != \"Completed\":\n",
    "    print(\"Reminder: the tuning job has not been completed.\")\n",
    "\n",
    "job_count = tuning_job_result[\"TrainingJobStatusCounters\"][\"Completed\"]\n",
    "print(\"%d training jobs have completed\" % job_count)\n",
    "\n",
    "objective = tuning_job_result[\"HyperParameterTuningJobConfig\"][\"HyperParameterTuningJobObjective\"]\n",
    "is_minimize = objective[\"Type\"] != \"Maximize\"\n",
    "objective_name = objective[\"MetricName\"]"
   ]
  },
  {
   "cell_type": "code",
   "execution_count": 19,
   "id": "08815bd6",
   "metadata": {},
   "outputs": [
    {
     "name": "stdout",
     "output_type": "stream",
     "text": [
      "Best model found so far:\n",
      "{'CreationTime': datetime.datetime(2022, 1, 15, 16, 41, 3, tzinfo=tzlocal()),\n",
      " 'FinalHyperParameterTuningJobObjectiveMetric': {'MetricName': 'validation:accuracy',\n",
      "                                                 'Value': 0.6118000149726868},\n",
      " 'ObjectiveStatus': 'Succeeded',\n",
      " 'TrainingEndTime': datetime.datetime(2022, 1, 15, 16, 44, 35, tzinfo=tzlocal()),\n",
      " 'TrainingJobArn': 'arn:aws:sagemaker:us-east-1:861737859161:training-job/goemotions-blazingte-220115-1640-001-7c12e047',\n",
      " 'TrainingJobName': 'GoEmotions-BlazingTe-220115-1640-001-7c12e047',\n",
      " 'TrainingJobStatus': 'Completed',\n",
      " 'TrainingStartTime': datetime.datetime(2022, 1, 15, 16, 43, 39, tzinfo=tzlocal()),\n",
      " 'TunedHyperParameters': {'epochs': '6',\n",
      "                          'learning_rate': '0.04354004683092508',\n",
      "                          'min_count': '3',\n",
      "                          'vector_dim': '37',\n",
      "                          'word_ngrams': '1'}}\n"
     ]
    }
   ],
   "source": [
    "from pprint import pprint\n",
    "\n",
    "if tuning_job_result.get(\"BestTrainingJob\", None):\n",
    "    print(\"Best model found so far:\")\n",
    "    pprint(tuning_job_result[\"BestTrainingJob\"])\n",
    "else:\n",
    "    print(\"No training jobs have reported results yet.\")"
   ]
  },
  {
   "cell_type": "markdown",
   "id": "a4cf3726",
   "metadata": {},
   "source": [
    "tuner.deploy(\n",
    "    initial_instance_count=1,\n",
    "    instance_type='ml.p3.2xlarge'\n",
    ")"
   ]
  }
 ],
 "metadata": {
  "kernelspec": {
   "display_name": "conda_python3",
   "language": "python",
   "name": "conda_python3"
  },
  "language_info": {
   "codemirror_mode": {
    "name": "ipython",
    "version": 3
   },
   "file_extension": ".py",
   "mimetype": "text/x-python",
   "name": "python",
   "nbconvert_exporter": "python",
   "pygments_lexer": "ipython3",
   "version": "3.6.13"
  }
 },
 "nbformat": 4,
 "nbformat_minor": 5
}
