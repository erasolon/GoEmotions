{
 "cells": [
  {
   "cell_type": "markdown",
   "id": "9201cb5f",
   "metadata": {},
   "source": [
    "# Text Classification using Amazon BlazingText"
   ]
  },
  {
   "cell_type": "markdown",
   "id": "57f6f3fb",
   "metadata": {},
   "source": [
    "**The purpose is to build model classifying the comments from Reddit into 4 categories: Positive, Negative, Neutral, Ambigious\n",
    "\n",
    "**The dataset is available at https://www.datasetlist.com/\n",
    "\n",
    "**Data preparation was done on Amazon EMR Notebook using SparkNLP "
   ]
  },
  {
   "cell_type": "code",
   "execution_count": 2,
   "id": "b7ecde2d",
   "metadata": {},
   "outputs": [
    {
     "name": "stdout",
     "output_type": "stream",
     "text": [
      "arn:aws:iam::861737859161:role/service-role/AmazonSageMaker-ExecutionRole-20210405T205521\n"
     ]
    }
   ],
   "source": [
    "import sagemaker\n",
    "from sagemaker import get_execution_role\n",
    "import json\n",
    "import boto3\n",
    "\n",
    "from sagemaker.tuner import (\n",
    "    IntegerParameter, CategoricalParameter, \n",
    "    ContinuousParameter, HyperparameterTuner)\n",
    "\n",
    "sess = sagemaker.Session()\n",
    "\n",
    "role = get_execution_role()\n",
    "print(\n",
    "    role\n",
    ")  \n",
    "\n",
    "bucket = \"erasolon-ml-output\" \n",
    "prefix_input = \"emr/goemotions\"  \n",
    "prefix_output = \"blazingtext/goemotions\"  "
   ]
  },
  {
   "cell_type": "code",
   "execution_count": 3,
   "id": "1634402d",
   "metadata": {},
   "outputs": [
    {
     "name": "stdout",
     "output_type": "stream",
     "text": [
      "CPU times: user 9 µs, sys: 2 µs, total: 11 µs\n",
      "Wall time: 13.8 µs\n"
     ]
    }
   ],
   "source": [
    "%%time\n",
    "\n",
    "train_channel = prefix_input + \"/train_output/part-00000-4eecc79f-ac2b-4cf2-96e5-2decb968edd2-c000.txt\"\n",
    "validation_channel = prefix_input + \"/validation_output/part-00000-1870e87d-5743-4431-8c6b-91daf98624e0-c000.txt\"\n",
    "test_channel = prefix_input + \"/test_output/part-00000-44794e58-707c-48ee-b2a1-a9e485f2e97a-c000.txt\"\n",
    "\n",
    "\n",
    "s3_train_data = \"s3://{}/{}\".format(bucket, train_channel)\n",
    "s3_validation_data = \"s3://{}/{}\".format(bucket, validation_channel)\n",
    "s3_test_data = \"s3://{}/{}\".format(bucket, test_channel)\n",
    "\n",
    "s3_output_location = \"s3://{}/{}/output\".format(bucket, prefix_output)"
   ]
  },
  {
   "cell_type": "markdown",
   "id": "3df384ad",
   "metadata": {},
   "source": [
    "## Training"
   ]
  },
  {
   "cell_type": "code",
   "execution_count": 4,
   "id": "7e101f49",
   "metadata": {},
   "outputs": [
    {
     "name": "stderr",
     "output_type": "stream",
     "text": [
      "The method get_image_uri has been renamed in sagemaker>=2.\n",
      "See: https://sagemaker.readthedocs.io/en/stable/v2.html for details.\n",
      "Defaulting to the only supported framework/algorithm version: 1. Ignoring framework/algorithm version: latest.\n"
     ]
    },
    {
     "name": "stdout",
     "output_type": "stream",
     "text": [
      "Using SageMaker BlazingText container: 811284229777.dkr.ecr.us-east-1.amazonaws.com/blazingtext:1 (us-east-1)\n"
     ]
    }
   ],
   "source": [
    "region_name = boto3.Session().region_name\n",
    "container = sagemaker.amazon.amazon_estimator.get_image_uri(region_name, \"blazingtext\", \"latest\")\n",
    "print(\"Using SageMaker BlazingText container: {} ({})\".format(container, region_name))"
   ]
  },
  {
   "cell_type": "code",
   "execution_count": 5,
   "id": "12b70c5c",
   "metadata": {},
   "outputs": [],
   "source": [
    "bt_model = sagemaker.estimator.Estimator(\n",
    "    container,\n",
    "    role,\n",
    "    instance_count=1,\n",
    "    instance_type=\"ml.c4.4xlarge\",\n",
    "    volume_size=30,\n",
    "    max_run=360000,\n",
    "    input_mode=\"File\",\n",
    "    output_path=s3_output_location,base_job_name=\"GoEmotions-BlazingText\",\n",
    "    sagemaker_session=sess,\n",
    "    hyperparameters={\n",
    "        \"mode\": \"supervised\",\n",
    "        \"epochs\": 5,\n",
    "        \"min_count\": 2,\n",
    "        \"early_stopping\": True,\n",
    "        \"patience\": 4,\n",
    "        \"min_epochs\": 5,\n",
    "        \"word_ngrams\": 1,\n",
    "        \n",
    "    },\n",
    ")"
   ]
  },
  {
   "cell_type": "code",
   "execution_count": 6,
   "id": "75dcf36f",
   "metadata": {},
   "outputs": [],
   "source": [
    "train_data = sagemaker.inputs.TrainingInput(\n",
    "    s3_train_data,\n",
    "    distribution=\"FullyReplicated\",\n",
    "    s3_data_type=\"S3Prefix\",\n",
    "    input_mode='File',\n",
    "    content_type='text/plain',\n",
    "    compression='None',\n",
    ")\n",
    "validation_data = sagemaker.inputs.TrainingInput(\n",
    "    s3_validation_data,\n",
    "    distribution=\"FullyReplicated\",\n",
    "    s3_data_type=\"S3Prefix\",\n",
    "    input_mode='File',\n",
    "    content_type='text/plain',\n",
    "    compression='None',\n",
    ")\n",
    "test_data = sagemaker.inputs.TrainingInput(\n",
    "    s3_test_data,\n",
    "    distribution=\"FullyReplicated\",\n",
    "    s3_data_type=\"S3Prefix\",\n",
    "    input_mode='File',\n",
    "    content_type='text/plain',\n",
    "    compression='None',\n",
    ")\n",
    "data_channels = {\"train\": train_data, \"validation\": validation_data, \"test\": test_data}"
   ]
  },
  {
   "cell_type": "code",
   "execution_count": 7,
   "id": "d0c9eae2",
   "metadata": {
    "scrolled": true
   },
   "outputs": [
    {
     "name": "stdout",
     "output_type": "stream",
     "text": [
      "2022-01-16 05:17:26 Starting - Starting the training job...\n",
      "2022-01-16 05:17:52 Starting - Launching requested ML instancesProfilerReport-1642310246: InProgress\n",
      "......\n",
      "2022-01-16 05:18:52 Starting - Preparing the instances for training.........\n",
      "2022-01-16 05:20:17 Downloading - Downloading input data...\n",
      "2022-01-16 05:20:55 Training - Training image download completed. Training in progress.\n",
      "2022-01-16 05:20:55 Uploading - Uploading generated training model\u001b[34mArguments: train\u001b[0m\n",
      "\u001b[34m[01/16/2022 05:20:46 WARNING 139813160293760] Loggers have already been setup.\u001b[0m\n",
      "\u001b[34m[01/16/2022 05:20:46 WARNING 139813160293760] Loggers have already been setup.\u001b[0m\n",
      "\u001b[34m[01/16/2022 05:20:46 INFO 139813160293760] nvidia-smi took: 0.0755469799041748 secs to identify 0 gpus\u001b[0m\n",
      "\u001b[34m[01/16/2022 05:20:46 INFO 139813160293760] Running single machine CPU BlazingText training using supervised mode.\u001b[0m\n",
      "\u001b[34mNumber of CPU sockets found in instance is  1\u001b[0m\n",
      "\u001b[34m[01/16/2022 05:20:46 INFO 139813160293760] Processing /opt/ml/input/data/train/part-00000-4eecc79f-ac2b-4cf2-96e5-2decb968edd2-c000.txt . File size: 2.665308952331543 MB\u001b[0m\n",
      "\u001b[34m[01/16/2022 05:20:46 INFO 139813160293760] Processing /opt/ml/input/data/validation/part-00000-1870e87d-5743-4431-8c6b-91daf98624e0-c000.txt . File size: 0.3329038619995117 MB\u001b[0m\n",
      "\u001b[34mRead 0M words\u001b[0m\n",
      "\u001b[34mNumber of words:  13086\u001b[0m\n",
      "\u001b[34mLoading validation data from /opt/ml/input/data/validation/part-00000-1870e87d-5743-4431-8c6b-91daf98624e0-c000.txt\u001b[0m\n",
      "\u001b[34mLoaded validation data.\u001b[0m\n",
      "\u001b[34m-------------- End of epoch: 1\u001b[0m\n",
      "\u001b[34m##### Alpha: -0.0000  Progress: 100.02%  Million Words/sec: 17.15 #####\u001b[0m\n",
      "\u001b[34m-------------- End of epoch: 5\u001b[0m\n",
      "\u001b[34mUsing 16 threads for prediction!\u001b[0m\n",
      "\u001b[34mValidation accuracy: 0.614188\u001b[0m\n",
      "\u001b[34mValidation accuracy improved! Storing best weights...\u001b[0m\n",
      "\u001b[34m##### Alpha: 0.0000  Progress: 100.00%  Million Words/sec: 15.60 #####\u001b[0m\n",
      "\u001b[34mTraining finished.\u001b[0m\n",
      "\u001b[34mAverage throughput in Million words/sec: 15.60\u001b[0m\n",
      "\u001b[34mTotal training time in seconds: 0.13\u001b[0m\n",
      "\u001b[34m#train_accuracy: 0.6784\u001b[0m\n",
      "\u001b[34mNumber of train examples: 46835\u001b[0m\n",
      "\u001b[34m#validation_accuracy: 0.6142\u001b[0m\n",
      "\u001b[34mNumber of validation examples: 5850\u001b[0m\n",
      "\n",
      "2022-01-16 05:21:12 Completed - Training job completed\n",
      "Training seconds: 47\n",
      "Billable seconds: 47\n",
      "CPU times: user 512 ms, sys: 21.4 ms, total: 534 ms\n",
      "Wall time: 4min 14s\n"
     ]
    }
   ],
   "source": [
    "%%time\n",
    "\n",
    "bt_model.fit(inputs=data_channels, logs=True)"
   ]
  },
  {
   "cell_type": "markdown",
   "id": "ca9553b2",
   "metadata": {},
   "source": [
    "## Hyperparameter Tuning"
   ]
  },
  {
   "cell_type": "code",
   "execution_count": 8,
   "id": "6ad9489c",
   "metadata": {},
   "outputs": [],
   "source": [
    "objective_metric_name = 'validation:accuracy'\n",
    "objective_type = 'Maximize'"
   ]
  },
  {
   "cell_type": "code",
   "execution_count": 9,
   "id": "bf02ba54",
   "metadata": {},
   "outputs": [
    {
     "name": "stdout",
     "output_type": "stream",
     "text": [
      ".........................................................!\n",
      "CPU times: user 337 ms, sys: 24.2 ms, total: 362 ms\n",
      "Wall time: 4min 48s\n"
     ]
    }
   ],
   "source": [
    "%%time\n",
    "\n",
    "hyperparameter_ranges = {\n",
    "    \"epochs\": IntegerParameter(5, 15, scaling_type=\"Linear\"),\n",
    "    \"learning_rate\": ContinuousParameter(0.005, 0.01, scaling_type=\"Auto\"),\n",
    "    \"min_count\": IntegerParameter(2, 5, scaling_type=\"Linear\"),\n",
    "    \"vector_dim\": IntegerParameter(32, 64, scaling_type=\"Linear\"),\n",
    "    \"word_ngrams\": IntegerParameter(1, 3, scaling_type=\"Linear\")\n",
    "}\n",
    "\n",
    "tuner = HyperparameterTuner(bt_model,\n",
    "                            objective_metric_name,\n",
    "                            hyperparameter_ranges,\n",
    "                            base_tuning_job_name =\"GoEmotions-BlazingText\",\n",
    "                            max_jobs=4,\n",
    "                            max_parallel_jobs=4,\n",
    "                            strategy=\"Random\",\n",
    "                            early_stopping_type='Auto',\n",
    "                            objective_type=objective_type)\n",
    "\n",
    "\n",
    "data_channels_tune = {\"train\": train_data, \"test\": test_data, \"validation\": validation_data}\n",
    "\n",
    "tuner.fit(inputs=data_channels_tune, logs=True)"
   ]
  },
  {
   "cell_type": "code",
   "execution_count": 10,
   "id": "b94db9f8",
   "metadata": {},
   "outputs": [
    {
     "data": {
      "text/plain": [
       "'Completed'"
      ]
     },
     "execution_count": 10,
     "metadata": {},
     "output_type": "execute_result"
    }
   ],
   "source": [
    "boto3.client(\"sagemaker\").describe_hyper_parameter_tuning_job(\n",
    "    HyperParameterTuningJobName=tuner.latest_tuning_job.job_name\n",
    ")[\"HyperParameterTuningJobStatus\"]"
   ]
  },
  {
   "cell_type": "code",
   "execution_count": 11,
   "id": "2c1200bf",
   "metadata": {},
   "outputs": [
    {
     "name": "stdout",
     "output_type": "stream",
     "text": [
      "3 training jobs have completed\n"
     ]
    }
   ],
   "source": [
    "# run this cell to check current status of hyperparameter tuning job\n",
    "tuning_job_result = boto3.client(\"sagemaker\").describe_hyper_parameter_tuning_job(\n",
    "    HyperParameterTuningJobName=tuner.latest_tuning_job.job_name\n",
    ")\n",
    "\n",
    "status = tuning_job_result[\"HyperParameterTuningJobStatus\"]\n",
    "if status != \"Completed\":\n",
    "    print(\"Reminder: the tuning job has not been completed.\")\n",
    "\n",
    "job_count = tuning_job_result[\"TrainingJobStatusCounters\"][\"Completed\"]\n",
    "print(\"%d training jobs have completed\" % job_count)\n",
    "\n",
    "objective = tuning_job_result[\"HyperParameterTuningJobConfig\"][\"HyperParameterTuningJobObjective\"]\n",
    "is_minimize = objective[\"Type\"] != \"Maximize\"\n",
    "objective_name = objective[\"MetricName\"]"
   ]
  },
  {
   "cell_type": "code",
   "execution_count": 12,
   "id": "b7807e72",
   "metadata": {},
   "outputs": [
    {
     "name": "stdout",
     "output_type": "stream",
     "text": [
      "Best model found so far:\n",
      "{'CreationTime': datetime.datetime(2022, 1, 16, 5, 21, 52, tzinfo=tzlocal()),\n",
      " 'FinalHyperParameterTuningJobObjectiveMetric': {'MetricName': 'validation:accuracy',\n",
      "                                                 'Value': 0.5776000022888184},\n",
      " 'ObjectiveStatus': 'Succeeded',\n",
      " 'TrainingEndTime': datetime.datetime(2022, 1, 16, 5, 25, 57, tzinfo=tzlocal()),\n",
      " 'TrainingJobArn': 'arn:aws:sagemaker:us-east-1:861737859161:training-job/goemotions-blazingte-220116-0521-001-1d4d98ca',\n",
      " 'TrainingJobName': 'GoEmotions-BlazingTe-220116-0521-001-1d4d98ca',\n",
      " 'TrainingJobStatus': 'Completed',\n",
      " 'TrainingStartTime': datetime.datetime(2022, 1, 16, 5, 24, 42, tzinfo=tzlocal()),\n",
      " 'TunedHyperParameters': {'epochs': '12',\n",
      "                          'learning_rate': '0.008744285399472224',\n",
      "                          'min_count': '3',\n",
      "                          'vector_dim': '34',\n",
      "                          'word_ngrams': '2'}}\n"
     ]
    }
   ],
   "source": [
    "from pprint import pprint\n",
    "\n",
    "if tuning_job_result.get(\"BestTrainingJob\", None):\n",
    "    print(\"Best model found so far:\")\n",
    "    pprint(tuning_job_result[\"BestTrainingJob\"])\n",
    "else:\n",
    "    print(\"No training jobs have reported results yet.\")"
   ]
  },
  {
   "cell_type": "markdown",
   "id": "a280b53d",
   "metadata": {},
   "source": [
    "## Deploy the best trained model"
   ]
  },
  {
   "cell_type": "code",
   "execution_count": 13,
   "id": "092d35ad",
   "metadata": {},
   "outputs": [
    {
     "name": "stdout",
     "output_type": "stream",
     "text": [
      "\n",
      "2022-01-16 05:25:57 Starting - Preparing the instances for training\n",
      "2022-01-16 05:25:57 Downloading - Downloading input data\n",
      "2022-01-16 05:25:57 Training - Training image download completed. Training in progress.\n",
      "2022-01-16 05:25:57 Uploading - Uploading generated training model\n",
      "2022-01-16 05:25:57 Completed - Training job completed\n",
      "--------!"
     ]
    }
   ],
   "source": [
    "from sagemaker.serializers import JSONSerializer\n",
    "\n",
    "text_classifier = tuner.deploy(\n",
    "    initial_instance_count=1, instance_type=\"ml.m4.xlarge\", serializer=JSONSerializer()\n",
    ")"
   ]
  },
  {
   "cell_type": "markdown",
   "id": "0f6e931e",
   "metadata": {},
   "source": [
    "## Running Classification"
   ]
  },
  {
   "cell_type": "code",
   "execution_count": 14,
   "id": "03cb16ef",
   "metadata": {
    "scrolled": true
   },
   "outputs": [
    {
     "name": "stdout",
     "output_type": "stream",
     "text": [
      "[\n",
      "  {\n",
      "    \"label\": [\n",
      "      \"__label__positive\"\n",
      "    ],\n",
      "    \"prob\": [\n",
      "      0.9981802701950073\n",
      "    ]\n",
      "  },\n",
      "  {\n",
      "    \"label\": [\n",
      "      \"__label__negative\"\n",
      "    ],\n",
      "    \"prob\": [\n",
      "      0.7251734733581543\n",
      "    ]\n",
      "  },\n",
      "  {\n",
      "    \"label\": [\n",
      "      \"__label__negative\"\n",
      "    ],\n",
      "    \"prob\": [\n",
      "      0.4644191563129425\n",
      "    ]\n",
      "  }\n",
      "]\n"
     ]
    }
   ],
   "source": [
    "sentences = [\n",
    "    \"love it\",\n",
    "    \"hate it\",\n",
    "    \"dont know\",\n",
    "]\n",
    "\n",
    "payload = {\"instances\": sentences}\n",
    "\n",
    "response = text_classifier.predict(payload)\n",
    "\n",
    "predictions = json.loads(response)\n",
    "print(json.dumps(predictions, indent=2))"
   ]
  },
  {
   "cell_type": "markdown",
   "id": "4334ee5c",
   "metadata": {},
   "source": [
    "## Clean Up"
   ]
  },
  {
   "cell_type": "code",
   "execution_count": 15,
   "id": "c0411b83",
   "metadata": {},
   "outputs": [],
   "source": [
    "text_classifier.delete_endpoint()"
   ]
  }
 ],
 "metadata": {
  "kernelspec": {
   "display_name": "conda_python3",
   "language": "python",
   "name": "conda_python3"
  },
  "language_info": {
   "codemirror_mode": {
    "name": "ipython",
    "version": 3
   },
   "file_extension": ".py",
   "mimetype": "text/x-python",
   "name": "python",
   "nbconvert_exporter": "python",
   "pygments_lexer": "ipython3",
   "version": "3.6.13"
  }
 },
 "nbformat": 4,
 "nbformat_minor": 5
}
